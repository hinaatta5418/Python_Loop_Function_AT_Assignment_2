{
 "cells": [
  {
   "cell_type": "markdown",
   "id": "890efdac",
   "metadata": {},
   "source": [
    "# for loop that calculates the sum of numbers from 1 to 10."
   ]
  },
  {
   "cell_type": "code",
   "execution_count": 5,
   "id": "9dd3a660",
   "metadata": {},
   "outputs": [
    {
     "name": "stdout",
     "output_type": "stream",
     "text": [
      "Total sum is list from (1-10):  55\n"
     ]
    }
   ],
   "source": [
    "num=[1,2,3,4,5,6,7,8,9,10]\n",
    "sum=0\n",
    "\n",
    "for i in range(len(num)):\n",
    "    sum=sum + num[i]\n",
    "    \n",
    "print(\"Total sum is list from (1-10): \",sum)"
   ]
  },
  {
   "cell_type": "markdown",
   "id": "3b294a21",
   "metadata": {},
   "source": [
    "# Print the items of the list [“Python”, “Numpy”, “Pandas”] in reverse order"
   ]
  },
  {
   "cell_type": "code",
   "execution_count": 89,
   "id": "f1178f00",
   "metadata": {},
   "outputs": [
    {
     "name": "stdout",
     "output_type": "stream",
     "text": [
      "['Pandas', 'Numpy', 'Python']\n"
     ]
    }
   ],
   "source": [
    "langugaes=[\"Python\",\"Numpy\",\"Pandas\"]\n",
    "reversed_list=[]\n",
    "length_list=range(len(langugaes)-1 , -1, -1)\n",
    "\n",
    "for i in length_list:\n",
    "    reversed_list.append( langugaes[i])\n",
    "\n",
    "print(reversed_list)"
   ]
  },
  {
   "cell_type": "markdown",
   "id": "9cf98cab",
   "metadata": {},
   "source": [
    "# Guessing game with a while loop"
   ]
  },
  {
   "cell_type": "code",
   "execution_count": 91,
   "id": "f0b5fd3d",
   "metadata": {},
   "outputs": [
    {
     "name": "stdout",
     "output_type": "stream",
     "text": [
      "Enter your guess number: 3\n",
      "Congratulations! You guessed it right.\n"
     ]
    }
   ],
   "source": [
    "guess_number = 3\n",
    "\n",
    "while True:\n",
    "    user_input = int(input(\"Enter your guess number: \"))\n",
    "    \n",
    "    if guess_number == user_input:\n",
    "        print(\"Congratulations! You guessed it right.\")\n",
    "        break\n",
    "    else:\n",
    "        print(\"Please try again.\")\n"
   ]
  },
  {
   "cell_type": "markdown",
   "id": "afa555e4",
   "metadata": {},
   "source": [
    "# While loop that asks for user input and adds it to a list."
   ]
  },
  {
   "cell_type": "code",
   "execution_count": null,
   "id": "8f2560fe",
   "metadata": {},
   "outputs": [
    {
     "name": "stdout",
     "output_type": "stream",
     "text": [
      "Enter the number (type \"done\" to exit )2\n",
      "['2']\n",
      "Enter the number (type \"done\" to exit )4\n",
      "['2', '4']\n",
      "Enter the number (type \"done\" to exit )5\n",
      "['2', '4', '5']\n"
     ]
    }
   ],
   "source": [
    "user_input_list=[]\n",
    "\n",
    "while(True):\n",
    "    user_input=input('Enter the number (type \"done\" to exit )')\n",
    "    if user_input.lower()==\"done\":\n",
    "        break\n",
    "    else:\n",
    "        user_input_list.append(user_input)\n",
    "        print(user_input_list)\n",
    "        \n",
    "  "
   ]
  },
  {
   "cell_type": "markdown",
   "id": "05573cbb",
   "metadata": {},
   "source": [
    "# Function that prints all even numbers between 1 and 20."
   ]
  },
  {
   "cell_type": "code",
   "execution_count": 2,
   "id": "eb659bd9",
   "metadata": {},
   "outputs": [
    {
     "name": "stdout",
     "output_type": "stream",
     "text": [
      "Even Number 2\n",
      "Even Number 4\n",
      "Even Number 6\n",
      "Even Number 8\n",
      "Even Number 10\n",
      "Even Number 12\n",
      "Even Number 14\n",
      "Even Number 16\n",
      "Even Number 18\n",
      "Even Number 20\n"
     ]
    }
   ],
   "source": [
    "def evennumber():\n",
    "    for i in range(1,21):\n",
    "        if i % 2 == 0:\n",
    "            print(\"Even Number\",i)\n",
    "     \n",
    "evennumber()\n"
   ]
  },
  {
   "cell_type": "markdown",
   "id": "882c69d8",
   "metadata": {},
   "source": [
    "# Function that takes a list and a number as arguments and returns."
   ]
  },
  {
   "cell_type": "code",
   "execution_count": 8,
   "id": "da38519d",
   "metadata": {},
   "outputs": [
    {
     "data": {
      "text/plain": [
       "(['Hi', 'Hello', 'Bye'], 2)"
      ]
     },
     "execution_count": 8,
     "metadata": {},
     "output_type": "execute_result"
    }
   ],
   "source": [
    "def testing(name_list , num ):\n",
    "    return name_list , num\n",
    "\n",
    "\n",
    "testing([\"Hi\",\"Hello\",\"Bye\"],2)"
   ]
  },
  {
   "cell_type": "markdown",
   "id": "d5ee8c77",
   "metadata": {},
   "source": [
    "# CALCULATOR"
   ]
  },
  {
   "cell_type": "code",
   "execution_count": 22,
   "id": "962061e2",
   "metadata": {},
   "outputs": [
    {
     "name": "stdout",
     "output_type": "stream",
     "text": [
      "Addition Result 15\n",
      "Subtraction Result 9\n",
      "Multiplication Result 36\n",
      "Error can't be divided by zero\n",
      "Division Result None\n",
      "Division Result 5.0\n"
     ]
    }
   ],
   "source": [
    "def calculator(num1 , num2 , operation):\n",
    "    \n",
    "     if operation== \"add\":\n",
    "        return num1+num2\n",
    "     elif operation == \"sub\":\n",
    "        return num1-num2\n",
    "     elif operation == \"mul\":\n",
    "        return num1*num2\n",
    "     elif operation == \"div\":\n",
    "        if num2 != 0:\n",
    "            return num1 / num2\n",
    "        else:\n",
    "            print(\"Error can't be divided by zero\")\n",
    "     else:\n",
    "         \"Error\"\n",
    "\n",
    "            \n",
    "result_add = calculator(12 , 3 , \"add\")\n",
    "print(\"Addition Result\",result_add)\n",
    "\n",
    "            \n",
    "result_sub= calculator(12 , 3 , \"sub\")\n",
    "print(\"Subtraction Result\",result_sub)\n",
    "\n",
    "result_mul= calculator(12 , 3 , \"mul\")\n",
    "print(\"Multiplication Result\",result_mul)\n",
    "\n",
    "\n",
    "result_div= calculator(12 , 0 , \"div\")\n",
    "print(\"Division Result\",result_div)\n",
    "\n",
    "result_div= calculator(15 , 3 , \"div\")\n",
    "print(\"Division Result\",result_div)\n",
    "\n",
    "\n",
    "\n",
    "    "
   ]
  },
  {
   "cell_type": "markdown",
   "id": "2de7e390",
   "metadata": {},
   "source": [
    "# Function that takes a list of numbers and returns the maximum number"
   ]
  },
  {
   "cell_type": "code",
   "execution_count": 35,
   "id": "068883c0",
   "metadata": {},
   "outputs": [
    {
     "name": "stdout",
     "output_type": "stream",
     "text": [
      "Maximum number in the list is 8\n"
     ]
    }
   ],
   "source": [
    "def max_list(num_list):\n",
    "     return max(num_list)\n",
    "    \n",
    "num_list=[1,2,8,6,4]\n",
    "\n",
    "maximum_number= max_list(num_list)\n",
    "\n",
    "print(\"Maximum number in the list is\",maximum_number)\n",
    "    \n"
   ]
  },
  {
   "cell_type": "markdown",
   "id": "f81104a5",
   "metadata": {},
   "source": [
    "# lambda function "
   ]
  },
  {
   "cell_type": "code",
   "execution_count": 27,
   "id": "50251f0f",
   "metadata": {},
   "outputs": [
    {
     "name": "stdout",
     "output_type": "stream",
     "text": [
      "18\n"
     ]
    }
   ],
   "source": [
    "prod= lambda num1 , num2 : num1 * num2\n",
    "print(prod(3,6))"
   ]
  },
  {
   "cell_type": "markdown",
   "id": "d5a592de",
   "metadata": {},
   "source": [
    "# function that takes a list and returns a new list"
   ]
  },
  {
   "cell_type": "code",
   "execution_count": 88,
   "id": "ca1b7b55",
   "metadata": {},
   "outputs": [
    {
     "name": "stdout",
     "output_type": "stream",
     "text": [
      "[2, 4, 6, 8, 10, 12, 14, 16]\n"
     ]
    }
   ],
   "source": [
    "def list_manip(old_list):\n",
    "    even_list = []  # Initialize even_list as an empty list\n",
    "    for i in range(len(old_list)):\n",
    "        if old_list[i] % 2 == 0:\n",
    "            even_list.append(old_list[i])\n",
    "    return even_list\n",
    "\n",
    "old_list = [1, 2, 3, 4, 5, 6 , 7 , 8 , 9 , 10 , 11 ,12 ,13 , 14 , 15 , 16]\n",
    "\n",
    "print(list_manip(old_list))\n"
   ]
  },
  {
   "cell_type": "code",
   "execution_count": null,
   "id": "85158aa3",
   "metadata": {},
   "outputs": [],
   "source": []
  }
 ],
 "metadata": {
  "kernelspec": {
   "display_name": "Python 3 (ipykernel)",
   "language": "python",
   "name": "python3"
  },
  "language_info": {
   "codemirror_mode": {
    "name": "ipython",
    "version": 3
   },
   "file_extension": ".py",
   "mimetype": "text/x-python",
   "name": "python",
   "nbconvert_exporter": "python",
   "pygments_lexer": "ipython3",
   "version": "3.9.13"
  }
 },
 "nbformat": 4,
 "nbformat_minor": 5
}
